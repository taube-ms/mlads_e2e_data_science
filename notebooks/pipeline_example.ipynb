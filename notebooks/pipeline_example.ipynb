{
 "cells": [
  {
   "cell_type": "markdown",
   "metadata": {},
   "source": [
    "# Pipeline example"
   ]
  },
  {
   "cell_type": "code",
   "execution_count": 3,
   "metadata": {},
   "outputs": [
    {
     "name": "stderr",
     "output_type": "stream",
     "text": [
      "C:\\Users\\danieltaube\\AppData\\Local\\Packages\\PythonSoftwareFoundation.Python.3.11_qbz5n2kfra8p0\\LocalCache\\local-packages\\Python311\\site-packages\\sklearn\\linear_model\\_logistic.py:460: ConvergenceWarning: lbfgs failed to converge (status=1):\n",
      "STOP: TOTAL NO. of ITERATIONS REACHED LIMIT.\n",
      "\n",
      "Increase the number of iterations (max_iter) or scale the data as shown in:\n",
      "    https://scikit-learn.org/stable/modules/preprocessing.html\n",
      "Please also refer to the documentation for alternative solver options:\n",
      "    https://scikit-learn.org/stable/modules/linear_model.html#logistic-regression\n",
      "  n_iter_i = _check_optimize_result(\n"
     ]
    },
    {
     "data": {
      "text/plain": [
       "0.7821229050279329"
      ]
     },
     "execution_count": 3,
     "metadata": {},
     "output_type": "execute_result"
    }
   ],
   "source": [
    "from sklearn.model_selection import train_test_split\n",
    "from sklearn.preprocessing import LabelEncoder, StandardScaler\n",
    "from sklearn.linear_model import LogisticRegression\n",
    "from sklearn.metrics import accuracy_score\n",
    "import pandas as pd\n",
    "import numpy as np\n",
    "\n",
    "\n",
    "# Simplified classes for the pipeline\n",
    "class DataLoader:\n",
    "    def __init__(self, filepath):\n",
    "        self.filepath = filepath\n",
    "\n",
    "    def load_data(self):\n",
    "        return pd.read_csv(self.filepath)\n",
    "\n",
    "class DataPreprocessor:\n",
    "    def __init__(self, data):\n",
    "        self.data = data\n",
    "\n",
    "    def preprocess(self):\n",
    "        # Basic preprocessing steps\n",
    "        self.data = self.data.drop(['Name', 'Ticket', 'Cabin'], axis=1)\n",
    "        self.data['Age'].fillna(self.data['Age'].median(), inplace=True)\n",
    "        self.data['Embarked'].fillna(self.data['Embarked'].mode()[0], inplace=True)\n",
    "        return self.data\n",
    "\n",
    "class FeatureEngineer:\n",
    "    def __init__(self, data):\n",
    "        self.data = data\n",
    "\n",
    "    def engineer_features(self):\n",
    "        # Convert categorical variables to numerical\n",
    "        label_encoder = LabelEncoder()\n",
    "        self.data['Sex'] = label_encoder.fit_transform(self.data['Sex'])\n",
    "        self.data['Embarked'] = label_encoder.fit_transform(self.data['Embarked'])\n",
    "        return self.data\n",
    "\n",
    "class ModelTrainer:\n",
    "    def __init__(self, features, target):\n",
    "        self.X_train, self.X_test, self.y_train, self.y_test = train_test_split(features, target, test_size=0.2, random_state=42)\n",
    "        self.model = LogisticRegression()\n",
    "\n",
    "    def train(self):\n",
    "        self.model.fit(self.X_train, self.y_train)\n",
    "        return self.model\n",
    "\n",
    "class ModelEvaluator:\n",
    "    def __init__(self, model, X_test, y_test):\n",
    "        self.model = model\n",
    "        self.X_test = X_test\n",
    "        self.y_test = y_test\n",
    "\n",
    "    def evaluate(self):\n",
    "        predictions = self.model.predict(self.X_test)\n",
    "        return accuracy_score(self.y_test, predictions)\n",
    "\n",
    "# Running the pipeline\n",
    "def main():\n",
    "    # Load data\n",
    "    loader = DataLoader('../titanic.csv')\n",
    "    data = loader.load_data()\n",
    "\n",
    "    # Preprocess data\n",
    "    preprocessor = DataPreprocessor(data)\n",
    "    preprocessed_data = preprocessor.preprocess()\n",
    "\n",
    "    # Feature engineering\n",
    "    engineer = FeatureEngineer(preprocessed_data)\n",
    "    engineered_data = engineer.engineer_features()\n",
    "\n",
    "    # Splitting features and target\n",
    "    features = engineered_data.drop('Survived', axis=1)\n",
    "    target = engineered_data['Survived']\n",
    "\n",
    "    # Model training\n",
    "    trainer = ModelTrainer(features, target)\n",
    "    trained_model = trainer.train()\n",
    "\n",
    "    # Model evaluation\n",
    "    evaluator = ModelEvaluator(trained_model, trainer.X_test, trainer.y_test)\n",
    "    evaluation_result = evaluator.evaluate()\n",
    "    return evaluation_result\n",
    "\n",
    "# Execute the main function\n",
    "accuracy = main()\n",
    "accuracy\n"
   ]
  },
  {
   "cell_type": "code",
   "execution_count": null,
   "metadata": {},
   "outputs": [],
   "source": []
  }
 ],
 "metadata": {
  "kernelspec": {
   "display_name": "Python 3",
   "language": "python",
   "name": "python3"
  },
  "language_info": {
   "codemirror_mode": {
    "name": "ipython",
    "version": 3
   },
   "file_extension": ".py",
   "mimetype": "text/x-python",
   "name": "python",
   "nbconvert_exporter": "python",
   "pygments_lexer": "ipython3",
   "version": "3.11.6"
  }
 },
 "nbformat": 4,
 "nbformat_minor": 2
}
